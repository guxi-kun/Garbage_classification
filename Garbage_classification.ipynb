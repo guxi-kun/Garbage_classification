{
 "cells": [
  {
   "cell_type": "code",
   "execution_count": 1,
   "metadata": {
    "execution": {
     "iopub.execute_input": "2022-02-20T13:37:16.096616Z",
     "iopub.status.busy": "2022-02-20T13:37:16.095994Z",
     "iopub.status.idle": "2022-02-20T13:37:17.921852Z",
     "shell.execute_reply": "2022-02-20T13:37:17.921010Z",
     "shell.execute_reply.started": "2022-02-20T13:37:16.096574Z"
    },
    "scrolled": true
   },
   "outputs": [
    {
     "name": "stderr",
     "output_type": "stream",
     "text": [
      "/opt/conda/envs/python35-paddle120-env/lib/python3.7/site-packages/matplotlib/__init__.py:107: DeprecationWarning: Using or importing the ABCs from 'collections' instead of from 'collections.abc' is deprecated, and in 3.8 it will stop working\n",
      "  from collections import MutableMapping\n",
      "/opt/conda/envs/python35-paddle120-env/lib/python3.7/site-packages/matplotlib/rcsetup.py:20: DeprecationWarning: Using or importing the ABCs from 'collections' instead of from 'collections.abc' is deprecated, and in 3.8 it will stop working\n",
      "  from collections import Iterable, Mapping\n",
      "/opt/conda/envs/python35-paddle120-env/lib/python3.7/site-packages/matplotlib/colors.py:53: DeprecationWarning: Using or importing the ABCs from 'collections' instead of from 'collections.abc' is deprecated, and in 3.8 it will stop working\n",
      "  from collections import Sized\n"
     ]
    }
   ],
   "source": [
    "import paddle\n",
    "from paddle.io import Dataset,DataLoader\n",
    "import paddle.nn.functional as F\n",
    "from paddle import nn\n",
    "import numpy as np\n",
    "import os\n",
    "from PIL import Image\n",
    "import paddle.vision.transforms as T\n",
    "import time\n",
    "import json\n",
    "import matplotlib.pyplot as plt"
   ]
  },
  {
   "cell_type": "markdown",
   "metadata": {},
   "source": [
    "# **解压数据集**"
   ]
  },
  {
   "cell_type": "code",
   "execution_count": 2,
   "metadata": {
    "execution": {
     "iopub.execute_input": "2022-02-20T13:37:20.911230Z",
     "iopub.status.busy": "2022-02-20T13:37:20.910225Z",
     "iopub.status.idle": "2022-02-20T13:37:26.386924Z",
     "shell.execute_reply": "2022-02-20T13:37:26.385968Z",
     "shell.execute_reply.started": "2022-02-20T13:37:20.911175Z"
    },
    "scrolled": true
   },
   "outputs": [],
   "source": [
    "!unzip -qo data/data89598/garbage.zip -d data"
   ]
  },
  {
   "cell_type": "markdown",
   "metadata": {},
   "source": [
    "# **将json文件读出为字典，方便识别垃圾分类**"
   ]
  },
  {
   "cell_type": "code",
   "execution_count": 3,
   "metadata": {
    "execution": {
     "iopub.execute_input": "2022-02-20T13:37:30.039445Z",
     "iopub.status.busy": "2022-02-20T13:37:30.038758Z",
     "iopub.status.idle": "2022-02-20T13:37:30.044920Z",
     "shell.execute_reply": "2022-02-20T13:37:30.044128Z",
     "shell.execute_reply.started": "2022-02-20T13:37:30.039393Z"
    },
    "scrolled": true
   },
   "outputs": [
    {
     "name": "stdout",
     "output_type": "stream",
     "text": [
      "{'0': '其他垃圾/一次性快餐盒', '1': '其他垃圾/污损塑料', '2': '其他垃圾/烟蒂', '3': '其他垃圾/牙签', '4': '其他垃圾/破碎花盆及碟碗', '5': '其他垃圾/竹筷', '6': '厨余垃圾/剩饭剩菜', '7': '厨余垃圾/大骨头', '8': '厨余垃圾/水果果皮', '9': '厨余垃圾/水果果肉', '10': '厨余垃圾/茶叶渣', '11': '厨余垃圾/菜叶菜根', '12': '厨余垃圾/蛋壳', '13': '厨余垃圾/鱼骨', '14': '可回收物/充电宝', '15': '可回收物/包', '16': '可回收物/化妆品瓶', '17': '可回收物/塑料玩具', '18': '可回收物/塑料碗盆', '19': '可回收物/塑料衣架', '20': '可回收物/快递纸袋', '21': '可回收物/插头电线', '22': '可回收物/旧衣服', '23': '可回收物/易拉罐', '24': '可回收物/枕头', '25': '可回收物/毛绒玩具', '26': '可回收物/洗发水瓶', '27': '可回收物/玻璃杯', '28': '可回收物/皮鞋', '29': '可回收物/砧板', '30': '可回收物/纸板箱', '31': '可回收物/调料瓶', '32': '可回收物/酒瓶', '33': '可回收物/金属食品罐', '34': '可回收物/锅', '35': '可回收物/食用油桶', '36': '可回收物/饮料瓶', '37': '有害垃圾/干电池', '38': '有害垃圾/软膏', '39': '有害垃圾/过期药物'}\n"
     ]
    }
   ],
   "source": [
    "f = open(\"data/garbage/garbage_classify_rule.json\",\"r\")\n",
    "file_dict = json.load(f)\n",
    "print(file_dict)\n",
    "f.close()"
   ]
  },
  {
   "cell_type": "markdown",
   "metadata": {},
   "source": [
    "# **创建数据集**"
   ]
  },
  {
   "cell_type": "code",
   "execution_count": 4,
   "metadata": {
    "execution": {
     "iopub.execute_input": "2022-02-20T13:37:34.879198Z",
     "iopub.status.busy": "2022-02-20T13:37:34.878439Z",
     "iopub.status.idle": "2022-02-20T13:38:51.680268Z",
     "shell.execute_reply": "2022-02-20T13:38:51.679288Z",
     "shell.execute_reply.started": "2022-02-20T13:37:34.879162Z"
    },
    "scrolled": true
   },
   "outputs": [],
   "source": [
    "class GarbageDataset(Dataset):\n",
    "    def __init__(self,transforms=None,train=\"train\"):\n",
    "        super().__init__()\n",
    "        self.transforms=transforms\n",
    "        self.labels=list()\n",
    "        self.datas=list()\n",
    "        file_path=os.path.join(\"data/garbage\",train) \n",
    "        #遍历train下的文件夹\n",
    "        for file_name in os.listdir(file_path):  #file_name就是label,0、1、2、3、4、5\n",
    "            sub_file_path=os.path.join(file_path,file_name) \n",
    "            #遍历子文件夹下的每一张图片\n",
    "            for img_name in os.listdir(sub_file_path):\n",
    "                if \"DeepLearning - ┐ь╜▌╖╜╩╜.lnk\" in img_name or \"img_12074.jpg\" in img_name:\n",
    "                    continue\n",
    "                img_path=os.path.join(sub_file_path,img_name)  \n",
    "                #读取图片\n",
    "                im=np.array(Image.open(img_path))\n",
    "                if im is None:  #图不为空\n",
    "                    continue\n",
    "                if im.ndim==3:  #图片维度为3\n",
    "                    self.datas.append(im)\n",
    "                    self.labels.append(file_name)  #加入label\n",
    "\n",
    "    def __getitem__(self,index):\n",
    "        data=self.datas[index]\n",
    "        if self.transforms!=None:\n",
    "            data=self.transforms(data)\n",
    "        label=int(self.labels[index])#np.array([int(self.labels[index])])\n",
    "        x=paddle.to_tensor(label)\n",
    "        y_data = paddle.cast(x, 'int64')\n",
    "        y_data = paddle.reshape(y_data, (-1, 1))\n",
    "        return data,label\n",
    "\n",
    "    def __len__(self):\n",
    "        return len(self.labels)\n",
    "\n",
    "transforms=T.Compose([T.Resize([224,224]),T.ToTensor()])\n",
    "train_dataset=GarbageDataset(transforms=transforms) # 训练集\n",
    "test_dataset=GarbageDataset(transforms=transforms,train=\"test\") # 测试集\n",
    "valid_dataset = GarbageDataset(transforms=transforms,train=\"valid\") # 验证集"
   ]
  },
  {
   "cell_type": "markdown",
   "metadata": {},
   "source": [
    "# **加载数据集**"
   ]
  },
  {
   "cell_type": "code",
   "execution_count": 5,
   "metadata": {
    "execution": {
     "iopub.execute_input": "2022-02-20T13:40:58.282300Z",
     "iopub.status.busy": "2022-02-20T13:40:58.281371Z",
     "iopub.status.idle": "2022-02-20T13:40:58.286612Z",
     "shell.execute_reply": "2022-02-20T13:40:58.285677Z",
     "shell.execute_reply.started": "2022-02-20T13:40:58.282262Z"
    },
    "scrolled": true
   },
   "outputs": [],
   "source": [
    "TrainDataLoader=DataLoader(dataset=train_dataset,shuffle=True,batch_size=100)\n",
    "TestDataLoader=DataLoader(dataset=test_dataset,shuffle=True,batch_size=100)"
   ]
  },
  {
   "cell_type": "markdown",
   "metadata": {},
   "source": [
    "# **resnet网络结构**"
   ]
  },
  {
   "cell_type": "code",
   "execution_count": 7,
   "metadata": {
    "execution": {
     "iopub.execute_input": "2022-02-20T13:41:35.544106Z",
     "iopub.status.busy": "2022-02-20T13:41:35.543166Z",
     "iopub.status.idle": "2022-02-20T13:41:35.576835Z",
     "shell.execute_reply": "2022-02-20T13:41:35.576008Z",
     "shell.execute_reply.started": "2022-02-20T13:41:35.544067Z"
    },
    "scrolled": true
   },
   "outputs": [
    {
     "name": "stdout",
     "output_type": "stream",
     "text": [
      "---------------------------------------------------------------------------\n",
      " Layer (type)       Input Shape          Output Shape         Param #    \n",
      "===========================================================================\n",
      "   Conv2D-6     [[1, 64, 128, 128]]   [1, 64, 128, 128]       36,928     \n",
      " BatchNorm2D-6  [[1, 64, 128, 128]]   [1, 64, 128, 128]         256      \n",
      "    ReLU-5      [[1, 64, 128, 128]]   [1, 64, 128, 128]          0       \n",
      "   Conv2D-7     [[1, 64, 128, 128]]   [1, 64, 128, 128]       36,928     \n",
      " BatchNorm2D-7  [[1, 64, 128, 128]]   [1, 64, 128, 128]         256      \n",
      "    ReLU-6      [[1, 64, 128, 128]]   [1, 64, 128, 128]          0       \n",
      "===========================================================================\n",
      "Total params: 74,368\n",
      "Trainable params: 73,856\n",
      "Non-trainable params: 512\n",
      "---------------------------------------------------------------------------\n",
      "Input size (MB): 4.00\n",
      "Forward/backward pass size (MB): 48.00\n",
      "Params size (MB): 0.28\n",
      "Estimated Total Size (MB): 52.28\n",
      "---------------------------------------------------------------------------\n",
      "\n",
      "---------------------------------------------------------------------------\n",
      " Layer (type)       Input Shape          Output Shape         Param #    \n",
      "===========================================================================\n",
      "   Conv2D-10    [[1, 64, 128, 128]]    [1, 64, 64, 64]         4,160     \n",
      "BatchNorm2D-10   [[1, 64, 64, 64]]     [1, 64, 64, 64]          256      \n",
      "   Conv2D-8     [[1, 64, 128, 128]]    [1, 64, 64, 64]        36,928     \n",
      " BatchNorm2D-8   [[1, 64, 64, 64]]     [1, 64, 64, 64]          256      \n",
      "    ReLU-7       [[1, 64, 64, 64]]     [1, 64, 64, 64]           0       \n",
      "   Conv2D-9      [[1, 64, 64, 64]]     [1, 64, 64, 64]        36,928     \n",
      " BatchNorm2D-9   [[1, 64, 64, 64]]     [1, 64, 64, 64]          256      \n",
      "    ReLU-8       [[1, 64, 64, 64]]     [1, 64, 64, 64]           0       \n",
      "===========================================================================\n",
      "Total params: 78,784\n",
      "Trainable params: 78,016\n",
      "Non-trainable params: 768\n",
      "---------------------------------------------------------------------------\n",
      "Input size (MB): 4.00\n",
      "Forward/backward pass size (MB): 16.00\n",
      "Params size (MB): 0.30\n",
      "Estimated Total Size (MB): 20.30\n",
      "---------------------------------------------------------------------------\n",
      "\n"
     ]
    },
    {
     "data": {
      "text/plain": [
       "{'total_params': 78784, 'trainable_params': 78016}"
      ]
     },
     "execution_count": 7,
     "metadata": {},
     "output_type": "execute_result"
    }
   ],
   "source": [
    "class IndentityBlock(paddle.nn.Layer):\n",
    "    def __init__(self,in_channels,filters):\n",
    "        super().__init__()\n",
    "        F1,F2=filters\n",
    "        self.stage=paddle.nn.Sequential(\n",
    "            paddle.nn.Conv2D(in_channels=in_channels,out_channels=F1,kernel_size=3,stride=1,padding=\"same\"),\n",
    "            paddle.nn.BatchNorm2D(F1),\n",
    "            paddle.nn.ReLU(),\n",
    "            paddle.nn.Conv2D(in_channels=F1,out_channels=F2,kernel_size=3,stride=1,padding=\"same\"),\n",
    "            paddle.nn.BatchNorm2D(F2)\n",
    "        )\n",
    "        self.relu=paddle.nn.ReLU()\n",
    "\n",
    "    def forward(self,x):\n",
    "        shortcut_x=x\n",
    "        x=self.stage(x)\n",
    "        x=x+shortcut_x\n",
    "        x=self.relu(x)\n",
    "        return x\n",
    "\n",
    "ib=IndentityBlock(64,(64,64))\n",
    "paddle.summary(ib,(1,64,128,128))\n",
    "\n",
    "\n",
    "class ConvBlock(paddle.nn.Layer):\n",
    "    def __init__(self,in_channels,filters,stride=1):\n",
    "        super().__init__()\n",
    "        F1,F2=filters\n",
    "        self.stage=paddle.nn.Sequential(\n",
    "            paddle.nn.Conv2D(in_channels=in_channels,out_channels=F1,kernel_size=3,stride=stride,padding=\"same\"),\n",
    "            paddle.nn.BatchNorm2D(F1),\n",
    "            paddle.nn.ReLU(),\n",
    "            paddle.nn.Conv2D(in_channels=F1,out_channels=F2,kernel_size=3,stride=1,padding=\"same\"),\n",
    "            paddle.nn.BatchNorm2D(F2)\n",
    "        )\n",
    "        self.shortcut_x=paddle.nn.Sequential(\n",
    "            paddle.nn.Conv2D(in_channels=in_channels,out_channels=F2,kernel_size=1,stride=stride,padding=\"same\"),\n",
    "            paddle.nn.BatchNorm2D(F2)\n",
    "        )\n",
    "        self.relu=paddle.nn.ReLU()\n",
    "\n",
    "    def forward(self,x):\n",
    "        shortcut_x=self.shortcut_x(x)\n",
    "        x=self.stage(x)\n",
    "        x=x+shortcut_x\n",
    "        x=self.relu(x)\n",
    "        return x\n",
    "\n",
    "cb=ConvBlock(64,(64,64),2)\n",
    "paddle.summary(cb,(1,64,128,128))\n"
   ]
  },
  {
   "cell_type": "code",
   "execution_count": 8,
   "metadata": {
    "execution": {
     "iopub.execute_input": "2022-02-20T13:41:42.033314Z",
     "iopub.status.busy": "2022-02-20T13:41:42.032651Z",
     "iopub.status.idle": "2022-02-20T13:41:42.154111Z",
     "shell.execute_reply": "2022-02-20T13:41:42.153437Z",
     "shell.execute_reply.started": "2022-02-20T13:41:42.033277Z"
    },
    "scrolled": true
   },
   "outputs": [
    {
     "name": "stdout",
     "output_type": "stream",
     "text": [
      "-----------------------------------------------------------------------------\n",
      "  Layer (type)        Input Shape          Output Shape         Param #    \n",
      "=============================================================================\n",
      "    Conv2D-11      [[1, 3, 224, 224]]   [1, 64, 112, 112]        9,472     \n",
      "     ReLU-9       [[1, 64, 112, 112]]   [1, 64, 112, 112]          0       \n",
      " BatchNorm2D-11   [[1, 64, 112, 112]]   [1, 64, 112, 112]         256      \n",
      "   MaxPool2D-1    [[1, 64, 112, 112]]    [1, 64, 55, 55]           0       \n",
      "    Conv2D-12      [[1, 64, 55, 55]]     [1, 64, 55, 55]        36,928     \n",
      " BatchNorm2D-12    [[1, 64, 55, 55]]     [1, 64, 55, 55]          256      \n",
      "     ReLU-10       [[1, 64, 55, 55]]     [1, 64, 55, 55]           0       \n",
      "    Conv2D-13      [[1, 64, 55, 55]]     [1, 64, 55, 55]        36,928     \n",
      " BatchNorm2D-13    [[1, 64, 55, 55]]     [1, 64, 55, 55]          256      \n",
      "     ReLU-11       [[1, 64, 55, 55]]     [1, 64, 55, 55]           0       \n",
      "IndentityBlock-3   [[1, 64, 55, 55]]     [1, 64, 55, 55]           0       \n",
      "    Conv2D-14      [[1, 64, 55, 55]]     [1, 64, 55, 55]        36,928     \n",
      " BatchNorm2D-14    [[1, 64, 55, 55]]     [1, 64, 55, 55]          256      \n",
      "     ReLU-12       [[1, 64, 55, 55]]     [1, 64, 55, 55]           0       \n",
      "    Conv2D-15      [[1, 64, 55, 55]]     [1, 64, 55, 55]        36,928     \n",
      " BatchNorm2D-15    [[1, 64, 55, 55]]     [1, 64, 55, 55]          256      \n",
      "     ReLU-13       [[1, 64, 55, 55]]     [1, 64, 55, 55]           0       \n",
      "IndentityBlock-4   [[1, 64, 55, 55]]     [1, 64, 55, 55]           0       \n",
      "    Conv2D-16      [[1, 64, 55, 55]]     [1, 64, 55, 55]        36,928     \n",
      " BatchNorm2D-16    [[1, 64, 55, 55]]     [1, 64, 55, 55]          256      \n",
      "     ReLU-14       [[1, 64, 55, 55]]     [1, 64, 55, 55]           0       \n",
      "    Conv2D-17      [[1, 64, 55, 55]]     [1, 64, 55, 55]        36,928     \n",
      " BatchNorm2D-17    [[1, 64, 55, 55]]     [1, 64, 55, 55]          256      \n",
      "     ReLU-15       [[1, 64, 55, 55]]     [1, 64, 55, 55]           0       \n",
      "IndentityBlock-5   [[1, 64, 55, 55]]     [1, 64, 55, 55]           0       \n",
      "    Conv2D-20      [[1, 64, 55, 55]]     [1, 128, 28, 28]        8,320     \n",
      " BatchNorm2D-20    [[1, 128, 28, 28]]    [1, 128, 28, 28]         512      \n",
      "    Conv2D-18      [[1, 64, 55, 55]]     [1, 128, 28, 28]       73,856     \n",
      " BatchNorm2D-18    [[1, 128, 28, 28]]    [1, 128, 28, 28]         512      \n",
      "     ReLU-16       [[1, 128, 28, 28]]    [1, 128, 28, 28]          0       \n",
      "    Conv2D-19      [[1, 128, 28, 28]]    [1, 128, 28, 28]       147,584    \n",
      " BatchNorm2D-19    [[1, 128, 28, 28]]    [1, 128, 28, 28]         512      \n",
      "     ReLU-17       [[1, 128, 28, 28]]    [1, 128, 28, 28]          0       \n",
      "   ConvBlock-3     [[1, 64, 55, 55]]     [1, 128, 28, 28]          0       \n",
      "    Conv2D-21      [[1, 128, 28, 28]]    [1, 128, 28, 28]       147,584    \n",
      " BatchNorm2D-21    [[1, 128, 28, 28]]    [1, 128, 28, 28]         512      \n",
      "     ReLU-18       [[1, 128, 28, 28]]    [1, 128, 28, 28]          0       \n",
      "    Conv2D-22      [[1, 128, 28, 28]]    [1, 128, 28, 28]       147,584    \n",
      " BatchNorm2D-22    [[1, 128, 28, 28]]    [1, 128, 28, 28]         512      \n",
      "     ReLU-19       [[1, 128, 28, 28]]    [1, 128, 28, 28]          0       \n",
      "IndentityBlock-6   [[1, 128, 28, 28]]    [1, 128, 28, 28]          0       \n",
      "    Conv2D-23      [[1, 128, 28, 28]]    [1, 128, 28, 28]       147,584    \n",
      " BatchNorm2D-23    [[1, 128, 28, 28]]    [1, 128, 28, 28]         512      \n",
      "     ReLU-20       [[1, 128, 28, 28]]    [1, 128, 28, 28]          0       \n",
      "    Conv2D-24      [[1, 128, 28, 28]]    [1, 128, 28, 28]       147,584    \n",
      " BatchNorm2D-24    [[1, 128, 28, 28]]    [1, 128, 28, 28]         512      \n",
      "     ReLU-21       [[1, 128, 28, 28]]    [1, 128, 28, 28]          0       \n",
      "IndentityBlock-7   [[1, 128, 28, 28]]    [1, 128, 28, 28]          0       \n",
      "    Conv2D-25      [[1, 128, 28, 28]]    [1, 128, 28, 28]       147,584    \n",
      " BatchNorm2D-25    [[1, 128, 28, 28]]    [1, 128, 28, 28]         512      \n",
      "     ReLU-22       [[1, 128, 28, 28]]    [1, 128, 28, 28]          0       \n",
      "    Conv2D-26      [[1, 128, 28, 28]]    [1, 128, 28, 28]       147,584    \n",
      " BatchNorm2D-26    [[1, 128, 28, 28]]    [1, 128, 28, 28]         512      \n",
      "     ReLU-23       [[1, 128, 28, 28]]    [1, 128, 28, 28]          0       \n",
      "IndentityBlock-8   [[1, 128, 28, 28]]    [1, 128, 28, 28]          0       \n",
      "    Conv2D-29      [[1, 128, 28, 28]]    [1, 256, 14, 14]       33,024     \n",
      " BatchNorm2D-29    [[1, 256, 14, 14]]    [1, 256, 14, 14]        1,024     \n",
      "    Conv2D-27      [[1, 128, 28, 28]]    [1, 256, 14, 14]       295,168    \n",
      " BatchNorm2D-27    [[1, 256, 14, 14]]    [1, 256, 14, 14]        1,024     \n",
      "     ReLU-24       [[1, 256, 14, 14]]    [1, 256, 14, 14]          0       \n",
      "    Conv2D-28      [[1, 256, 14, 14]]    [1, 256, 14, 14]       590,080    \n",
      " BatchNorm2D-28    [[1, 256, 14, 14]]    [1, 256, 14, 14]        1,024     \n",
      "     ReLU-25       [[1, 256, 14, 14]]    [1, 256, 14, 14]          0       \n",
      "   ConvBlock-4     [[1, 128, 28, 28]]    [1, 256, 14, 14]          0       \n",
      "    Conv2D-30      [[1, 256, 14, 14]]    [1, 256, 14, 14]       590,080    \n",
      " BatchNorm2D-30    [[1, 256, 14, 14]]    [1, 256, 14, 14]        1,024     \n",
      "     ReLU-26       [[1, 256, 14, 14]]    [1, 256, 14, 14]          0       \n",
      "    Conv2D-31      [[1, 256, 14, 14]]    [1, 256, 14, 14]       590,080    \n",
      " BatchNorm2D-31    [[1, 256, 14, 14]]    [1, 256, 14, 14]        1,024     \n",
      "     ReLU-27       [[1, 256, 14, 14]]    [1, 256, 14, 14]          0       \n",
      "IndentityBlock-9   [[1, 256, 14, 14]]    [1, 256, 14, 14]          0       \n",
      "    Conv2D-32      [[1, 256, 14, 14]]    [1, 256, 14, 14]       590,080    \n",
      " BatchNorm2D-32    [[1, 256, 14, 14]]    [1, 256, 14, 14]        1,024     \n",
      "     ReLU-28       [[1, 256, 14, 14]]    [1, 256, 14, 14]          0       \n",
      "    Conv2D-33      [[1, 256, 14, 14]]    [1, 256, 14, 14]       590,080    \n",
      " BatchNorm2D-33    [[1, 256, 14, 14]]    [1, 256, 14, 14]        1,024     \n",
      "     ReLU-29       [[1, 256, 14, 14]]    [1, 256, 14, 14]          0       \n",
      "IndentityBlock-10  [[1, 256, 14, 14]]    [1, 256, 14, 14]          0       \n",
      "    Conv2D-34      [[1, 256, 14, 14]]    [1, 256, 14, 14]       590,080    \n",
      " BatchNorm2D-34    [[1, 256, 14, 14]]    [1, 256, 14, 14]        1,024     \n",
      "     ReLU-30       [[1, 256, 14, 14]]    [1, 256, 14, 14]          0       \n",
      "    Conv2D-35      [[1, 256, 14, 14]]    [1, 256, 14, 14]       590,080    \n",
      " BatchNorm2D-35    [[1, 256, 14, 14]]    [1, 256, 14, 14]        1,024     \n",
      "     ReLU-31       [[1, 256, 14, 14]]    [1, 256, 14, 14]          0       \n",
      "IndentityBlock-11  [[1, 256, 14, 14]]    [1, 256, 14, 14]          0       \n",
      "    Conv2D-36      [[1, 256, 14, 14]]    [1, 256, 14, 14]       590,080    \n",
      " BatchNorm2D-36    [[1, 256, 14, 14]]    [1, 256, 14, 14]        1,024     \n",
      "     ReLU-32       [[1, 256, 14, 14]]    [1, 256, 14, 14]          0       \n",
      "    Conv2D-37      [[1, 256, 14, 14]]    [1, 256, 14, 14]       590,080    \n",
      " BatchNorm2D-37    [[1, 256, 14, 14]]    [1, 256, 14, 14]        1,024     \n",
      "     ReLU-33       [[1, 256, 14, 14]]    [1, 256, 14, 14]          0       \n",
      "IndentityBlock-12  [[1, 256, 14, 14]]    [1, 256, 14, 14]          0       \n",
      "    Conv2D-38      [[1, 256, 14, 14]]    [1, 256, 14, 14]       590,080    \n",
      " BatchNorm2D-38    [[1, 256, 14, 14]]    [1, 256, 14, 14]        1,024     \n",
      "     ReLU-34       [[1, 256, 14, 14]]    [1, 256, 14, 14]          0       \n",
      "    Conv2D-39      [[1, 256, 14, 14]]    [1, 256, 14, 14]       590,080    \n",
      " BatchNorm2D-39    [[1, 256, 14, 14]]    [1, 256, 14, 14]        1,024     \n",
      "     ReLU-35       [[1, 256, 14, 14]]    [1, 256, 14, 14]          0       \n",
      "IndentityBlock-13  [[1, 256, 14, 14]]    [1, 256, 14, 14]          0       \n",
      "    Conv2D-42      [[1, 256, 14, 14]]     [1, 512, 7, 7]        131,584    \n",
      " BatchNorm2D-42     [[1, 512, 7, 7]]      [1, 512, 7, 7]         2,048     \n",
      "    Conv2D-40      [[1, 256, 14, 14]]     [1, 512, 7, 7]       1,180,160   \n",
      " BatchNorm2D-40     [[1, 512, 7, 7]]      [1, 512, 7, 7]         2,048     \n",
      "     ReLU-36        [[1, 512, 7, 7]]      [1, 512, 7, 7]           0       \n",
      "    Conv2D-41       [[1, 512, 7, 7]]      [1, 512, 7, 7]       2,359,808   \n",
      " BatchNorm2D-41     [[1, 512, 7, 7]]      [1, 512, 7, 7]         2,048     \n",
      "     ReLU-37        [[1, 512, 7, 7]]      [1, 512, 7, 7]           0       \n",
      "   ConvBlock-5     [[1, 256, 14, 14]]     [1, 512, 7, 7]           0       \n",
      "    Conv2D-43       [[1, 512, 7, 7]]      [1, 512, 7, 7]       2,359,808   \n",
      " BatchNorm2D-43     [[1, 512, 7, 7]]      [1, 512, 7, 7]         2,048     \n",
      "     ReLU-38        [[1, 512, 7, 7]]      [1, 512, 7, 7]           0       \n",
      "    Conv2D-44       [[1, 512, 7, 7]]      [1, 512, 7, 7]       2,359,808   \n",
      " BatchNorm2D-44     [[1, 512, 7, 7]]      [1, 512, 7, 7]         2,048     \n",
      "     ReLU-39        [[1, 512, 7, 7]]      [1, 512, 7, 7]           0       \n",
      "IndentityBlock-14   [[1, 512, 7, 7]]      [1, 512, 7, 7]           0       \n",
      "    Conv2D-45       [[1, 512, 7, 7]]      [1, 512, 7, 7]       2,359,808   \n",
      " BatchNorm2D-45     [[1, 512, 7, 7]]      [1, 512, 7, 7]         2,048     \n",
      "     ReLU-40        [[1, 512, 7, 7]]      [1, 512, 7, 7]           0       \n",
      "    Conv2D-46       [[1, 512, 7, 7]]      [1, 512, 7, 7]       2,359,808   \n",
      " BatchNorm2D-46     [[1, 512, 7, 7]]      [1, 512, 7, 7]         2,048     \n",
      "     ReLU-41        [[1, 512, 7, 7]]      [1, 512, 7, 7]           0       \n",
      "IndentityBlock-15   [[1, 512, 7, 7]]      [1, 512, 7, 7]           0       \n",
      "   AvgPool2D-1      [[1, 512, 7, 7]]      [1, 512, 1, 1]           0       \n",
      "    Flatten-1       [[1, 512, 1, 1]]         [1, 512]              0       \n",
      "    Dropout-1          [[1, 512]]            [1, 512]              0       \n",
      "    Linear-1           [[1, 512]]            [1, 40]            20,520     \n",
      "=============================================================================\n",
      "Total params: 21,330,728\n",
      "Trainable params: 21,296,680\n",
      "Non-trainable params: 34,048\n",
      "-----------------------------------------------------------------------------\n",
      "Input size (MB): 0.57\n",
      "Forward/backward pass size (MB): 95.10\n",
      "Params size (MB): 81.37\n",
      "Estimated Total Size (MB): 177.04\n",
      "-----------------------------------------------------------------------------\n",
      "\n"
     ]
    },
    {
     "data": {
      "text/plain": [
       "{'total_params': 21330728, 'trainable_params': 21296680}"
      ]
     },
     "execution_count": 8,
     "metadata": {},
     "output_type": "execute_result"
    }
   ],
   "source": [
    "class ResNet34(paddle.nn.Layer):\n",
    "    def __init__(self):\n",
    "        super().__init__()\n",
    "    \n",
    "        self.conv1 = paddle.nn.Sequential(\n",
    "            paddle.nn.Conv2D(in_channels=3,out_channels=64,kernel_size=7,stride=2,padding=\"same\"),\n",
    "            paddle.nn.ReLU(),\n",
    "            paddle.nn.BatchNorm2D(64),\n",
    "            paddle.nn.MaxPool2D(kernel_size=3,stride=2)\n",
    "        )\n",
    "        self.conv2 = paddle.nn.Sequential(\n",
    "            IndentityBlock(64,(64,64)),\n",
    "            IndentityBlock(64,(64,64)),\n",
    "            IndentityBlock(64,(64,64))\n",
    "        )\n",
    "        self.conv3 = paddle.nn.Sequential(\n",
    "            ConvBlock(64,(128,128),stride=2),\n",
    "            IndentityBlock(128,(128,128)),\n",
    "            IndentityBlock(128,(128,128)),\n",
    "            IndentityBlock(128,(128,128))\n",
    "        )\n",
    "        self.conv4 = paddle.nn.Sequential(\n",
    "            ConvBlock(128,(256,256),stride=2),\n",
    "            IndentityBlock(256,(256,256)),\n",
    "            IndentityBlock(256,(256,256)),\n",
    "            IndentityBlock(256,(256,256)),\n",
    "            IndentityBlock(256,(256,256)),\n",
    "            IndentityBlock(256,(256,256))\n",
    "        )\n",
    "        self.conv5 = paddle.nn.Sequential(\n",
    "            ConvBlock(256,(512,512),stride=2),\n",
    "            IndentityBlock(512,(512,512)),\n",
    "            IndentityBlock(512,(512,512))\n",
    "        )\n",
    "        self.fc = paddle.nn.Sequential(\n",
    "            paddle.nn.AvgPool2D(512),\n",
    "            paddle.nn.Flatten(),\n",
    "            paddle.nn.Dropout(0.5),\n",
    "            paddle.nn.Linear(in_features=512*1*1,out_features=40)\n",
    "        )\n",
    "\n",
    "\n",
    "    def forward(self,x):\n",
    "    \n",
    "        x = self.conv1(x)\n",
    "        x = self.conv2(x)\n",
    "        x = self.conv3(x)\n",
    "        x = self.conv4(x)\n",
    "        x = self.conv5(x)\n",
    "        x = self.fc(x)\n",
    "        return x\n",
    "    \n",
    "resnet=ResNet34()\n",
    "paddle.summary(resnet,(1,3,224,224))\n"
   ]
  },
  {
   "cell_type": "markdown",
   "metadata": {},
   "source": [
    "# **训练模型并保持**"
   ]
  },
  {
   "cell_type": "code",
   "execution_count": 9,
   "metadata": {
    "execution": {
     "iopub.execute_input": "2022-02-20T13:41:48.767951Z",
     "iopub.status.busy": "2022-02-20T13:41:48.766965Z",
     "iopub.status.idle": "2022-02-20T14:01:14.190489Z",
     "shell.execute_reply": "2022-02-20T14:01:14.189642Z",
     "shell.execute_reply.started": "2022-02-20T13:41:48.767893Z"
    },
    "scrolled": true
   },
   "outputs": [
    {
     "name": "stdout",
     "output_type": "stream",
     "text": [
      "The loss value printed in the log is the current step, and the metric is the average value of previous steps.\n",
      "Epoch 1/40\n"
     ]
    },
    {
     "name": "stderr",
     "output_type": "stream",
     "text": [
      "/opt/conda/envs/python35-paddle120-env/lib/python3.7/site-packages/paddle/fluid/layers/utils.py:77: DeprecationWarning: Using or importing the ABCs from 'collections' instead of from 'collections.abc' is deprecated, and in 3.8 it will stop working\n",
      "  return (isinstance(seq, collections.Sequence) and\n",
      "/opt/conda/envs/python35-paddle120-env/lib/python3.7/site-packages/paddle/nn/layer/norm.py:653: UserWarning: When training, we now always track global mean and variance.\n",
      "  \"When training, we now always track global mean and variance.\")\n"
     ]
    },
    {
     "name": "stdout",
     "output_type": "stream",
     "text": [
      "step 119/119 [==============================] - loss: 4.0335 - acc: 0.0810 - 245ms/step          \n",
      "Epoch 2/40\n",
      "step 119/119 [==============================] - loss: 3.3628 - acc: 0.1379 - 242ms/step          \n",
      "Epoch 3/40\n",
      "step 119/119 [==============================] - loss: 3.7486 - acc: 0.1685 - 242ms/step          \n",
      "Epoch 4/40\n",
      "step 119/119 [==============================] - loss: 2.8190 - acc: 0.1855 - 241ms/step          \n",
      "Epoch 5/40\n",
      "step 119/119 [==============================] - loss: 2.5412 - acc: 0.2271 - 242ms/step          \n",
      "Epoch 6/40\n",
      "step 119/119 [==============================] - loss: 2.8184 - acc: 0.2535 - 244ms/step          \n",
      "Epoch 7/40\n",
      "step 119/119 [==============================] - loss: 2.9684 - acc: 0.2737 - 243ms/step          \n",
      "Epoch 8/40\n",
      "step 119/119 [==============================] - loss: 2.7726 - acc: 0.3152 - 242ms/step          \n",
      "Epoch 9/40\n",
      "step 119/119 [==============================] - loss: 2.0474 - acc: 0.3260 - 243ms/step          \n",
      "Epoch 10/40\n",
      "step 119/119 [==============================] - loss: 2.4157 - acc: 0.3623 - 243ms/step          \n",
      "Epoch 11/40\n",
      "step 119/119 [==============================] - loss: 2.0524 - acc: 0.4011 - 243ms/step          \n",
      "Epoch 12/40\n",
      "step 119/119 [==============================] - loss: 1.8600 - acc: 0.4301 - 242ms/step          \n",
      "Epoch 13/40\n",
      "step 119/119 [==============================] - loss: 2.2534 - acc: 0.4673 - 243ms/step          \n",
      "Epoch 14/40\n",
      "step 119/119 [==============================] - loss: 2.0574 - acc: 0.4976 - 244ms/step          \n",
      "Epoch 15/40\n",
      "step 119/119 [==============================] - loss: 1.4340 - acc: 0.5367 - 243ms/step          \n",
      "Epoch 16/40\n",
      "step 119/119 [==============================] - loss: 1.3972 - acc: 0.5780 - 249ms/step          \n",
      "Epoch 17/40\n",
      "step 119/119 [==============================] - loss: 1.3856 - acc: 0.6330 - 243ms/step          \n",
      "Epoch 18/40\n",
      "step 119/119 [==============================] - loss: 1.1811 - acc: 0.6733 - 251ms/step          \n",
      "Epoch 19/40\n",
      "step 119/119 [==============================] - loss: 1.0048 - acc: 0.7198 - 245ms/step          \n",
      "Epoch 20/40\n",
      "step 119/119 [==============================] - loss: 0.9065 - acc: 0.7640 - 243ms/step          \n",
      "Epoch 21/40\n",
      "step 119/119 [==============================] - loss: 0.8727 - acc: 0.8019 - 243ms/step          \n",
      "Epoch 22/40\n",
      "step 119/119 [==============================] - loss: 0.3182 - acc: 0.8507 - 248ms/step          \n",
      "Epoch 23/40\n",
      "step 119/119 [==============================] - loss: 0.7256 - acc: 0.8542 - 242ms/step          \n",
      "Epoch 24/40\n",
      "step 119/119 [==============================] - loss: 0.3168 - acc: 0.8876 - 245ms/step          \n",
      "Epoch 25/40\n",
      "step 119/119 [==============================] - loss: 0.2573 - acc: 0.9098 - 241ms/step          \n",
      "Epoch 26/40\n",
      "step 119/119 [==============================] - loss: 0.6080 - acc: 0.9302 - 242ms/step          \n",
      "Epoch 27/40\n",
      "step 119/119 [==============================] - loss: 0.6064 - acc: 0.9315 - 245ms/step          \n",
      "Epoch 28/40\n",
      "step 119/119 [==============================] - loss: 0.4460 - acc: 0.9393 - 251ms/step          \n",
      "Epoch 29/40\n",
      "step 119/119 [==============================] - loss: 0.1897 - acc: 0.9569 - 242ms/step          \n",
      "Epoch 30/40\n",
      "step 119/119 [==============================] - loss: 0.2508 - acc: 0.9625 - 242ms/step          \n",
      "Epoch 31/40\n",
      "step 119/119 [==============================] - loss: 0.2041 - acc: 0.9693 - 243ms/step          \n",
      "Epoch 32/40\n",
      "step 119/119 [==============================] - loss: 0.3326 - acc: 0.9566 - 243ms/step          \n",
      "Epoch 33/40\n",
      "step 119/119 [==============================] - loss: 0.1621 - acc: 0.9561 - 244ms/step          \n",
      "Epoch 34/40\n",
      "step 119/119 [==============================] - loss: 0.0665 - acc: 0.9557 - 243ms/step          \n",
      "Epoch 35/40\n",
      "step 119/119 [==============================] - loss: 0.3635 - acc: 0.9672 - 244ms/step          \n",
      "Epoch 36/40\n",
      "step 119/119 [==============================] - loss: 0.1979 - acc: 0.9639 - 244ms/step          \n",
      "Epoch 37/40\n",
      "step 119/119 [==============================] - loss: 0.1068 - acc: 0.9652 - 243ms/step          \n",
      "Epoch 38/40\n",
      "step 119/119 [==============================] - loss: 0.0227 - acc: 0.9708 - 242ms/step          \n",
      "Epoch 39/40\n",
      "step 119/119 [==============================] - loss: 0.3156 - acc: 0.9791 - 245ms/step          \n",
      "Epoch 40/40\n",
      "step 119/119 [==============================] - loss: 0.0804 - acc: 0.9781 - 243ms/step          \n",
      "Eval begin...\n",
      "step 16/16 [==============================] - loss: 3.6536 - acc: 0.4021 - 137ms/step          \n",
      "Eval samples: 1522\n"
     ]
    }
   ],
   "source": [
    "model=paddle.Model(resnet)\n",
    "model.prepare(optimizer=paddle.optimizer.Adam(parameters=model.parameters()),loss=paddle.nn.CrossEntropyLoss(),metrics=paddle.metric.Accuracy())\n",
    "vsDL=paddle.callbacks.VisualDL(\"dir_log\"+time.strftime(\"%Y-%m-%d %H:%M:%S\", time.localtime())) # 打印日志，方便过后查看损失率与准确率\n",
    "model.fit(train_data=TrainDataLoader,epochs=40,callbacks=vsDL,verbose=1) # 训练集训练\n",
    "model.evaluate(eval_data=TestDataLoader,verbose=1) # 测试集预测\n",
    "model.save(\"mymodel/resnet\") # 保存模型"
   ]
  },
  {
   "cell_type": "code",
   "execution_count": 10,
   "metadata": {
    "execution": {
     "iopub.execute_input": "2022-02-20T14:01:42.952785Z",
     "iopub.status.busy": "2022-02-20T14:01:42.951699Z",
     "iopub.status.idle": "2022-02-20T14:01:44.804249Z",
     "shell.execute_reply": "2022-02-20T14:01:44.803229Z",
     "shell.execute_reply.started": "2022-02-20T14:01:42.952743Z"
    },
    "scrolled": true
   },
   "outputs": [],
   "source": [
    "# 加载模型\n",
    "model=paddle.Model(resnet)\n",
    "model.prepare(optimizer=paddle.optimizer.Adam(parameters=model.parameters()),\n",
    "                loss=paddle.nn.CrossEntropyLoss(),metrics=paddle.metric.Accuracy())\n",
    "model.load(\"mymodel/resnet\")"
   ]
  },
  {
   "cell_type": "code",
   "execution_count": 11,
   "metadata": {
    "execution": {
     "iopub.execute_input": "2022-02-20T14:01:50.159959Z",
     "iopub.status.busy": "2022-02-20T14:01:50.159175Z",
     "iopub.status.idle": "2022-02-20T14:02:10.348211Z",
     "shell.execute_reply": "2022-02-20T14:02:10.347356Z",
     "shell.execute_reply.started": "2022-02-20T14:01:50.159894Z"
    },
    "scrolled": true
   },
   "outputs": [
    {
     "name": "stdout",
     "output_type": "stream",
     "text": [
      "Predict begin...\n",
      "step 1441/1441 [==============================] - 14ms/step          \n",
      "Predict samples: 1441\n"
     ]
    }
   ],
   "source": [
    "#对验证集进行预测\n",
    "result=model.predict(valid_dataset)"
   ]
  },
  {
   "cell_type": "code",
   "execution_count": 12,
   "metadata": {
    "execution": {
     "iopub.execute_input": "2022-02-20T14:02:53.576010Z",
     "iopub.status.busy": "2022-02-20T14:02:53.575382Z",
     "iopub.status.idle": "2022-02-20T14:02:59.318651Z",
     "shell.execute_reply": "2022-02-20T14:02:59.317831Z",
     "shell.execute_reply.started": "2022-02-20T14:02:53.575973Z"
    },
    "scrolled": true
   },
   "outputs": [
    {
     "name": "stdout",
     "output_type": "stream",
     "text": [
      "混淆矩阵信息\n",
      "[[ 4  0  0 ...  1  1  1]\n",
      " [ 0 12  1 ...  0  1  0]\n",
      " [ 0  0 19 ...  0  0  0]\n",
      " ...\n",
      " [ 0  1  1 ... 18  2  0]\n",
      " [ 0  0  0 ...  1 18  1]\n",
      " [ 0  0  1 ...  0  6 17]]\n"
     ]
    },
    {
     "name": "stderr",
     "output_type": "stream",
     "text": [
      "/opt/conda/envs/python35-paddle120-env/lib/python3.7/site-packages/matplotlib/cbook/__init__.py:2349: DeprecationWarning: Using or importing the ABCs from 'collections' instead of from 'collections.abc' is deprecated, and in 3.8 it will stop working\n",
      "  if isinstance(obj, collections.Iterator):\n",
      "/opt/conda/envs/python35-paddle120-env/lib/python3.7/site-packages/matplotlib/cbook/__init__.py:2366: DeprecationWarning: Using or importing the ABCs from 'collections' instead of from 'collections.abc' is deprecated, and in 3.8 it will stop working\n",
      "  return list(data) if isinstance(data, collections.MappingView) else data\n",
      "/opt/conda/envs/python35-paddle120-env/lib/python3.7/site-packages/matplotlib/colors.py:101: DeprecationWarning: np.asscalar(a) is deprecated since NumPy v1.16, use a.item() instead\n",
      "  ret = np.asscalar(ex)\n"
     ]
    },
    {
     "name": "stdout",
     "output_type": "stream",
     "text": [
      "计算各项指标\n",
      "              precision    recall  f1-score   support\n",
      "\n",
      "           0     0.8000    0.1667    0.2759        24\n",
      "           1     0.3636    0.3243    0.3429        37\n",
      "           2     0.4222    0.6786    0.5205        28\n",
      "           3     0.4000    0.2222    0.2857         9\n",
      "           4     0.2745    0.3590    0.3111        39\n",
      "           5     0.7059    0.4138    0.5217        29\n",
      "           6     0.5745    0.6750    0.6207        40\n",
      "           7     0.5000    0.3056    0.3793        36\n",
      "           8     0.8571    0.1579    0.2667        38\n",
      "           9     0.5789    0.2821    0.3793        39\n",
      "          10     0.9412    0.8205    0.8767        39\n",
      "          11     0.5647    0.6486    0.6038        74\n",
      "          12     0.4242    0.4242    0.4242        33\n",
      "          13     0.0000    0.0000    0.0000         0\n",
      "          14     0.3636    0.1111    0.1702        36\n",
      "          15     0.3621    0.5000    0.4200        42\n",
      "          16     0.4000    0.2857    0.3333        35\n",
      "          17     0.2857    0.3226    0.3030        31\n",
      "          18     0.6429    0.5000    0.5625        36\n",
      "          19     0.8095    0.5484    0.6538        31\n",
      "          20     1.0000    0.6522    0.7895        23\n",
      "          21     0.1981    0.3182    0.2442        66\n",
      "          22     0.4894    0.6216    0.5476        37\n",
      "          23     0.2917    0.4516    0.3544        31\n",
      "          24     0.4242    0.4375    0.4308        32\n",
      "          25     0.4857    0.6182    0.5440        55\n",
      "          26     0.6452    0.5714    0.6061        35\n",
      "          27     0.2895    0.4074    0.3385        54\n",
      "          28     0.6500    0.3421    0.4483        38\n",
      "          29     0.5500    0.5238    0.5366        42\n",
      "          30     0.6410    0.7812    0.7042        32\n",
      "          31     0.3333    0.2444    0.2821        45\n",
      "          32     0.5789    0.3929    0.4681        28\n",
      "          33     0.2963    0.2500    0.2712        32\n",
      "          34     0.3556    0.4103    0.3810        39\n",
      "          35     0.8333    0.5714    0.6780        35\n",
      "          36     0.2162    0.3077    0.2540        26\n",
      "          37     0.4865    0.5625    0.5217        32\n",
      "          38     0.4865    0.4615    0.4737        39\n",
      "          39     0.6071    0.3864    0.4722        44\n",
      "\n",
      "    accuracy                         0.4455      1441\n",
      "   macro avg     0.5032    0.4265    0.4399      1441\n",
      "weighted avg     0.5051    0.4455    0.4523      1441\n",
      "\n"
     ]
    },
    {
     "name": "stderr",
     "output_type": "stream",
     "text": [
      "/opt/conda/envs/python35-paddle120-env/lib/python3.7/site-packages/sklearn/metrics/_classification.py:1248: UndefinedMetricWarning: Recall and F-score are ill-defined and being set to 0.0 in labels with no true samples. Use `zero_division` parameter to control this behavior.\n",
      "  _warn_prf(average, modifier, msg_start, len(result))\n",
      "/opt/conda/envs/python35-paddle120-env/lib/python3.7/site-packages/sklearn/metrics/_classification.py:1248: UndefinedMetricWarning: Recall and F-score are ill-defined and being set to 0.0 in labels with no true samples. Use `zero_division` parameter to control this behavior.\n",
      "  _warn_prf(average, modifier, msg_start, len(result))\n",
      "/opt/conda/envs/python35-paddle120-env/lib/python3.7/site-packages/sklearn/metrics/_classification.py:1248: UndefinedMetricWarning: Recall and F-score are ill-defined and being set to 0.0 in labels with no true samples. Use `zero_division` parameter to control this behavior.\n",
      "  _warn_prf(average, modifier, msg_start, len(result))\n"
     ]
    },
    {
     "data": {
      "image/png": "[encoded data removed]",
      "text/plain": [
       "<Figure size 432x288 with 2 Axes>"
      ]
     },
     "metadata": {
      "needs_background": "light"
     },
     "output_type": "display_data"
    }
   ],
   "source": [
    "#使用混淆矩阵查看预测结果与真实值\n",
    "#生成标签矩阵\n",
    "labels = []\n",
    "for i in range(40):\n",
    "    labels.append(i)\n",
    "def F1(x):\n",
    "    return np.argmax(x[0])\n",
    "yp=list(map(F1,result[0]))  #利用函数式编程，整理预测值\n",
    "y_pred=yp\n",
    "def F2(x):\n",
    "    return x[1]\n",
    "yt=list(map(F2,valid_dataset)) #利用函数式编程，整理真实值\n",
    "y_true=yt\n",
    "from sklearn.metrics import confusion_matrix,classification_report\n",
    "import pandas as pd\n",
    "import seaborn as sns\n",
    "#混淆矩阵的制作\n",
    "C = confusion_matrix(y_true=y_true,y_pred=y_pred,labels=labels)\n",
    "#混淆矩阵信息\n",
    "print(\"混淆矩阵信息\")\n",
    "print(C)\n",
    "#把混淆矩阵C加入index和colums，封装成dataframe数据格式\n",
    "df=pd.DataFrame(C,index=labels,columns=labels)\n",
    "#展示热力图\n",
    "sns.heatmap(C,annot=True)\n",
    "print(\"计算各项指标\")\n",
    "#计算各项指标\n",
    "print(classification_report(y_true=y_true,y_pred=y_pred,digits=4))\n"
   ]
  },
  {
   "cell_type": "markdown",
   "metadata": {},
   "source": [
    "# **预测新图片**"
   ]
  },
  {
   "cell_type": "code",
   "execution_count": 15,
   "metadata": {
    "execution": {
     "iopub.execute_input": "2021-12-16T12:28:27.745198Z",
     "iopub.status.busy": "2021-12-16T12:28:27.744310Z",
     "iopub.status.idle": "2021-12-16T12:28:29.604359Z",
     "shell.execute_reply": "2021-12-16T12:28:29.603594Z",
     "shell.execute_reply.started": "2021-12-16T12:28:27.745156Z"
    },
    "scrolled": true
   },
   "outputs": [
    {
     "name": "stdout",
     "output_type": "stream",
     "text": [
      "可回收物/砧板\n"
     ]
    },
    {
     "data": {
      "image/png": "[encoded data removed]",
      "text/plain": [
       "<Figure size 432x288 with 1 Axes>"
      ]
     },
     "metadata": {
      "needs_background": "light"
     },
     "output_type": "display_data"
    }
   ],
   "source": [
    "#载入图像方法\n",
    "def image_load(img_path):\n",
    "    photo=Image.open(img_path)\n",
    "    photo=photo.resize([224,224])  #图像统一大小\n",
    "    im=np.array(photo).astype(\"float32\")    #图像数字化\n",
    "    # im=np.where(im > 150, 0, im)        #把像素点大于150的置为0\n",
    "    im=im/255                          #归一化\n",
    "    im=paddle.to_tensor(im)            #张量\n",
    "    return im\n",
    "im=image_load(\"data/garbage/valid/29/img_14911.jpg\")     #调用载入图像方法\n",
    "plt.imshow(im)      #显示图像\n",
    "im=im.reshape([1,3,224,224])   #图像变形为1张1通道28*28大小\n",
    "model.load(\"mymodel2/resnet\")   #加载模型参数\n",
    "result=model.predict_batch(im)  #使用model.predict_batch对图像进行预测\n",
    "print(file_dict[f\"{np.argmax(result)}\"])"
   ]
  },
  {
   "cell_type": "markdown",
   "metadata": {},
   "source": [
    "请点击[此处](https://ai.baidu.com/docs#/AIStudio_Project_Notebook/a38e5576)查看本环境基本用法.  <br>\n",
    "Please click [here ](https://ai.baidu.com/docs#/AIStudio_Project_Notebook/a38e5576) for more detailed instructions. "
   ]
  }
 ],
 "metadata": {
  "kernelspec": {
   "display_name": "Python 3",
   "language": "python",
   "name": "py35-paddle1.2.0"
  },
  "language_info": {
   "codemirror_mode": {
    "name": "ipython",
    "version": 3
   },
   "file_extension": ".py",
   "mimetype": "text/x-python",
   "name": "python",
   "nbconvert_exporter": "python",
   "pygments_lexer": "ipython3",
   "version": "3.7.4"
  },
  "toc-showmarkdowntxt": true
 },
 "nbformat": 4,
 "nbformat_minor": 4
}
